{
  "nbformat": 4,
  "nbformat_minor": 0,
  "metadata": {
    "colab": {
      "provenance": [],
      "gpuType": "T4"
    },
    "kernelspec": {
      "name": "python3",
      "display_name": "Python 3"
    },
    "language_info": {
      "name": "python"
    },
    "accelerator": "GPU"
  },
  "cells": [
    {
      "cell_type": "markdown",
      "source": [
        "# **O que é a WeCare?**\n",
        "\n",
        "A WeCare surgiu com a ideia de mudar hábitos de consumo de energia.\n",
        "\n",
        "Temos o objetivo de mostar que a mudança está na palma da sua mão. Tanto hábitos positivos quanto negativos, eles partem das nossas atitudes. Com essa ideia simples, acreditamos que a mudança está em cada um e que hábitos são desenvolvidos com o tempo. Com a WeCare, queremos desenvolver e tornar essas atitudes comuns no dia a dia de cada um."
      ],
      "metadata": {
        "id": "uDtscNGeH-gu"
      }
    },
    {
      "cell_type": "markdown",
      "source": [
        "**Nesta etapa, estamos integrando um sistema para identificar focos de desperdício de energia. Será possível identificar se possui pessoas no ambiente, caso não tenha, ele emitirá um sinal dizendo que as luzes devem ser apagadas**"
      ],
      "metadata": {
        "id": "PgdB1p6hJTNj"
      }
    },
    {
      "cell_type": "markdown",
      "source": [
        "##**Imports**\n"
      ],
      "metadata": {
        "id": "qFVoRx4VMaMa"
      }
    },
    {
      "cell_type": "code",
      "execution_count": 1,
      "metadata": {
        "colab": {
          "base_uri": "https://localhost:8080/",
          "height": 747
        },
        "id": "13E77PmSH6bh",
        "outputId": "3d1014e8-5fb5-404c-a551-152202ef6b2c"
      },
      "outputs": [
        {
          "output_type": "stream",
          "name": "stdout",
          "text": [
            "Collecting roboflow\n",
            "  Downloading roboflow-1.1.49-py3-none-any.whl.metadata (9.7 kB)\n",
            "Requirement already satisfied: certifi in /usr/local/lib/python3.10/dist-packages (from roboflow) (2024.8.30)\n",
            "Collecting idna==3.7 (from roboflow)\n",
            "  Downloading idna-3.7-py3-none-any.whl.metadata (9.9 kB)\n",
            "Requirement already satisfied: cycler in /usr/local/lib/python3.10/dist-packages (from roboflow) (0.12.1)\n",
            "Requirement already satisfied: kiwisolver>=1.3.1 in /usr/local/lib/python3.10/dist-packages (from roboflow) (1.4.7)\n",
            "Requirement already satisfied: matplotlib in /usr/local/lib/python3.10/dist-packages (from roboflow) (3.8.0)\n",
            "Requirement already satisfied: numpy>=1.18.5 in /usr/local/lib/python3.10/dist-packages (from roboflow) (1.26.4)\n",
            "Requirement already satisfied: opencv-python-headless==4.10.0.84 in /usr/local/lib/python3.10/dist-packages (from roboflow) (4.10.0.84)\n",
            "Requirement already satisfied: Pillow>=7.1.2 in /usr/local/lib/python3.10/dist-packages (from roboflow) (11.0.0)\n",
            "Requirement already satisfied: python-dateutil in /usr/local/lib/python3.10/dist-packages (from roboflow) (2.8.2)\n",
            "Collecting python-dotenv (from roboflow)\n",
            "  Downloading python_dotenv-1.0.1-py3-none-any.whl.metadata (23 kB)\n",
            "Requirement already satisfied: requests in /usr/local/lib/python3.10/dist-packages (from roboflow) (2.32.3)\n",
            "Requirement already satisfied: six in /usr/local/lib/python3.10/dist-packages (from roboflow) (1.16.0)\n",
            "Requirement already satisfied: urllib3>=1.26.6 in /usr/local/lib/python3.10/dist-packages (from roboflow) (2.2.3)\n",
            "Requirement already satisfied: tqdm>=4.41.0 in /usr/local/lib/python3.10/dist-packages (from roboflow) (4.66.6)\n",
            "Requirement already satisfied: PyYAML>=5.3.1 in /usr/local/lib/python3.10/dist-packages (from roboflow) (6.0.2)\n",
            "Requirement already satisfied: requests-toolbelt in /usr/local/lib/python3.10/dist-packages (from roboflow) (1.0.0)\n",
            "Collecting filetype (from roboflow)\n",
            "  Downloading filetype-1.2.0-py2.py3-none-any.whl.metadata (6.5 kB)\n",
            "Requirement already satisfied: contourpy>=1.0.1 in /usr/local/lib/python3.10/dist-packages (from matplotlib->roboflow) (1.3.1)\n",
            "Requirement already satisfied: fonttools>=4.22.0 in /usr/local/lib/python3.10/dist-packages (from matplotlib->roboflow) (4.54.1)\n",
            "Requirement already satisfied: packaging>=20.0 in /usr/local/lib/python3.10/dist-packages (from matplotlib->roboflow) (24.2)\n",
            "Requirement already satisfied: pyparsing>=2.3.1 in /usr/local/lib/python3.10/dist-packages (from matplotlib->roboflow) (3.2.0)\n",
            "Requirement already satisfied: charset-normalizer<4,>=2 in /usr/local/lib/python3.10/dist-packages (from requests->roboflow) (3.4.0)\n",
            "Downloading roboflow-1.1.49-py3-none-any.whl (80 kB)\n",
            "\u001b[2K   \u001b[90m━━━━━━━━━━━━━━━━━━━━━━━━━━━━━━━━━━━━━━━━\u001b[0m \u001b[32m80.9/80.9 kB\u001b[0m \u001b[31m7.1 MB/s\u001b[0m eta \u001b[36m0:00:00\u001b[0m\n",
            "\u001b[?25hDownloading idna-3.7-py3-none-any.whl (66 kB)\n",
            "\u001b[2K   \u001b[90m━━━━━━━━━━━━━━━━━━━━━━━━━━━━━━━━━━━━━━━━\u001b[0m \u001b[32m66.8/66.8 kB\u001b[0m \u001b[31m5.8 MB/s\u001b[0m eta \u001b[36m0:00:00\u001b[0m\n",
            "\u001b[?25hDownloading filetype-1.2.0-py2.py3-none-any.whl (19 kB)\n",
            "Downloading python_dotenv-1.0.1-py3-none-any.whl (19 kB)\n",
            "Installing collected packages: filetype, python-dotenv, idna, roboflow\n",
            "  Attempting uninstall: idna\n",
            "    Found existing installation: idna 3.10\n",
            "    Uninstalling idna-3.10:\n",
            "      Successfully uninstalled idna-3.10\n",
            "Successfully installed filetype-1.2.0 idna-3.7 python-dotenv-1.0.1 roboflow-1.1.49\n"
          ]
        },
        {
          "output_type": "execute_result",
          "data": {
            "text/plain": [
              "'jLXdoFmuxBmoTYxVbY4U'"
            ],
            "application/vnd.google.colaboratory.intrinsic+json": {
              "type": "string"
            }
          },
          "metadata": {},
          "execution_count": 1
        }
      ],
      "source": [
        "!pip install roboflow\n",
        "from roboflow import Roboflow\n",
        "from google.colab import userdata\n",
        "userdata.get('roboflow_lights_api')"
      ]
    },
    {
      "cell_type": "code",
      "source": [
        "# Chave de api\n",
        "api_key = userdata.get('roboflow_lights_api')"
      ],
      "metadata": {
        "id": "dEGKdpEZNR9n"
      },
      "execution_count": 2,
      "outputs": []
    },
    {
      "cell_type": "code",
      "source": [
        "rf = Roboflow(api_key=api_key)"
      ],
      "metadata": {
        "id": "V4KRC8o5P1OD"
      },
      "execution_count": 3,
      "outputs": []
    },
    {
      "cell_type": "code",
      "source": [
        "project = rf.workspace().project(\"dataset-lights\")\n",
        "model = project.version(3).model"
      ],
      "metadata": {
        "colab": {
          "base_uri": "https://localhost:8080/"
        },
        "id": "lEmwq-AWP31I",
        "outputId": "8d937f6d-8152-4848-f254-ae7f77558290"
      },
      "execution_count": 4,
      "outputs": [
        {
          "output_type": "stream",
          "name": "stdout",
          "text": [
            "loading Roboflow workspace...\n",
            "loading Roboflow project...\n"
          ]
        }
      ]
    },
    {
      "cell_type": "code",
      "source": [
        "# Caminho da imagem\n",
        "image_path = \"/content/Teste-Pessoa2.jpeg\""
      ],
      "metadata": {
        "id": "GEAjkMKBU3kO"
      },
      "execution_count": 7,
      "outputs": []
    },
    {
      "cell_type": "code",
      "source": [
        "print(model.predict(image_path, confidence=40, overlap=30).json())\n",
        "model.predict(image_path, confidence=40, overlap=30).save(\"prediction.jpg\")\n",
        "result = model.predict(image_path, confidence=40, overlap=30).json()\n",
        "\n",
        "predictions = result.get('predictions', [])\n",
        "person_detected = any(pred['class'] == 'Person' for pred in predictions)\n",
        "\n",
        "if person_detected:\n",
        "    print(\"Luzes podem ficar acesas.\")\n",
        "    print()\n",
        "else:\n",
        "    print(\"Ninguém detectado. Apagar as luzes.\")"
      ],
      "metadata": {
        "colab": {
          "base_uri": "https://localhost:8080/"
        },
        "id": "NYylQ1fgP_m2",
        "outputId": "fcddacca-167a-4996-8ec3-c61e506e1748"
      },
      "execution_count": 8,
      "outputs": [
        {
          "output_type": "stream",
          "name": "stdout",
          "text": [
            "{'predictions': [{'x': 592, 'y': 1085, 'width': 933, 'height': 1030, 'confidence': 0.5112730264663696, 'class': 'Person', 'class_id': 1, 'detection_id': '3840ff9a-42d1-41d4-a4ba-957dde162c8b', 'image_path': '/content/Teste-Pessoa2.jpeg', 'prediction_type': 'ObjectDetectionModel'}], 'image': {'width': '1200', 'height': '1600'}}\n",
            "Luzes podem ficar acesas.\n",
            "\n"
          ]
        }
      ]
    }
  ]
}